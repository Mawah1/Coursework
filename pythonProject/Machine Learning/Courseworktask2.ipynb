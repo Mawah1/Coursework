{
 "cells": [
  {
   "cell_type": "code",
   "execution_count": 298,
   "id": "initial_id",
   "metadata": {
    "collapsed": true,
    "ExecuteTime": {
     "end_time": "2024-02-21T16:29:08.979957700Z",
     "start_time": "2024-02-21T16:29:08.953928600Z"
    }
   },
   "outputs": [
    {
     "data": {
      "text/plain": "         Date 80% of the expenses were made by   \\\n0  1 Jan 2020                    Private sector   \n1  2 Jan 2020                    Private sector   \n2  3 Jan 2020                    Private sector   \n3  4 Jan 2020                    Private sector   \n4  5 Jan 2020                    Private sector   \n\n  80% of the expenses were made by .1  \\\n0                                Male   \n1                              Female   \n2                              Female   \n3                              Female   \n4                              Female   \n\n  80% of the expenses were made in the following regions  Miscellaneous (£)  \\\n0                                          E12000001                 113.90   \n1                                          E12000007                 117.51   \n2                                          E12000006                 117.63   \n3                                          E12000004                 116.27   \n4                                          E12000003                 113.75   \n\n   Automotive Fuel (£)  Entertainment (£)  Food and Drink (£)  \\\n0               125.01             113.52              101.79   \n1               128.54             117.09              107.25   \n2               132.20             115.70              107.47   \n3               135.19             108.49              107.90   \n4               135.02              99.38              107.01   \n\n   Pubs, restaurants and fast food (£)  \n0                               119.09  \n1                               121.97  \n2                               122.00  \n3                               119.54  \n4                               113.30  ",
      "text/html": "<div>\n<style scoped>\n    .dataframe tbody tr th:only-of-type {\n        vertical-align: middle;\n    }\n\n    .dataframe tbody tr th {\n        vertical-align: top;\n    }\n\n    .dataframe thead th {\n        text-align: right;\n    }\n</style>\n<table border=\"1\" class=\"dataframe\">\n  <thead>\n    <tr style=\"text-align: right;\">\n      <th></th>\n      <th>Date</th>\n      <th>80% of the expenses were made by</th>\n      <th>80% of the expenses were made by .1</th>\n      <th>80% of the expenses were made in the following regions</th>\n      <th>Miscellaneous (£)</th>\n      <th>Automotive Fuel (£)</th>\n      <th>Entertainment (£)</th>\n      <th>Food and Drink (£)</th>\n      <th>Pubs, restaurants and fast food (£)</th>\n    </tr>\n  </thead>\n  <tbody>\n    <tr>\n      <th>0</th>\n      <td>1 Jan 2020</td>\n      <td>Private sector</td>\n      <td>Male</td>\n      <td>E12000001</td>\n      <td>113.90</td>\n      <td>125.01</td>\n      <td>113.52</td>\n      <td>101.79</td>\n      <td>119.09</td>\n    </tr>\n    <tr>\n      <th>1</th>\n      <td>2 Jan 2020</td>\n      <td>Private sector</td>\n      <td>Female</td>\n      <td>E12000007</td>\n      <td>117.51</td>\n      <td>128.54</td>\n      <td>117.09</td>\n      <td>107.25</td>\n      <td>121.97</td>\n    </tr>\n    <tr>\n      <th>2</th>\n      <td>3 Jan 2020</td>\n      <td>Private sector</td>\n      <td>Female</td>\n      <td>E12000006</td>\n      <td>117.63</td>\n      <td>132.20</td>\n      <td>115.70</td>\n      <td>107.47</td>\n      <td>122.00</td>\n    </tr>\n    <tr>\n      <th>3</th>\n      <td>4 Jan 2020</td>\n      <td>Private sector</td>\n      <td>Female</td>\n      <td>E12000004</td>\n      <td>116.27</td>\n      <td>135.19</td>\n      <td>108.49</td>\n      <td>107.90</td>\n      <td>119.54</td>\n    </tr>\n    <tr>\n      <th>4</th>\n      <td>5 Jan 2020</td>\n      <td>Private sector</td>\n      <td>Female</td>\n      <td>E12000003</td>\n      <td>113.75</td>\n      <td>135.02</td>\n      <td>99.38</td>\n      <td>107.01</td>\n      <td>113.30</td>\n    </tr>\n  </tbody>\n</table>\n</div>"
     },
     "execution_count": 298,
     "metadata": {},
     "output_type": "execute_result"
    }
   ],
   "source": [
    "#import the csv file \n",
    "import pandas as pd\n",
    "import numpy as np\n",
    "import matplotlib as mpl\n",
    "import matplotlib.pyplot as plt\n",
    "import missingno as msno\n",
    "\n",
    "Dataset = pd.read_csv('C:\\\\Users\\\\atang\\\\OneDrive\\\\Documents\\\\Data Science MSc\\\\Machine Learning\\\\COMP 1886 - Coursework\\\\COMP 1886 - Coursework datasetcsv.csv')\n",
    "Dataset.head()\n"
   ]
  },
  {
   "cell_type": "code",
   "execution_count": 299,
   "outputs": [],
   "source": [
    "#from task 1, we noticed that the data type for all columns with figures/integers is float64 and such does not need to be converted to numeric format."
   ],
   "metadata": {
    "collapsed": false,
    "ExecuteTime": {
     "end_time": "2024-02-21T16:29:08.979957700Z",
     "start_time": "2024-02-21T16:29:08.976377400Z"
    }
   },
   "id": "6034153574735d73"
  },
  {
   "cell_type": "code",
   "execution_count": 300,
   "outputs": [
    {
     "name": "stdout",
     "output_type": "stream",
     "text": [
      "Date                                                       0\n",
      "80% of the expenses were made by                          82\n",
      "80% of the expenses were made by .1                       46\n",
      "80% of the expenses were made in the following regions     0\n",
      "Miscellaneous (£)                                         15\n",
      "Automotive Fuel (£)                                        0\n",
      "Entertainment (£)                                         30\n",
      "Food and Drink (£)                                         0\n",
      "Pubs, restaurants and fast food (£)                        0\n",
      "dtype: int64\n"
     ]
    }
   ],
   "source": [
    "#Handle missing values of numeric columns\n",
    "#check what columns have missing values  \n",
    "Datasetnew = Dataset.isnull().sum()\n",
    "print(Datasetnew)"
   ],
   "metadata": {
    "collapsed": false,
    "ExecuteTime": {
     "end_time": "2024-02-21T16:29:09.032776800Z",
     "start_time": "2024-02-21T16:29:08.979957700Z"
    }
   },
   "id": "dceaec18b9f1182b"
  },
  {
   "cell_type": "code",
   "execution_count": 301,
   "outputs": [],
   "source": [
    "#Fill in missing values with median as it is not affected by outliers\n",
    "Dataset['Miscellaneous (£)'].fillna(Dataset['Miscellaneous (£)'].median(), inplace = True) \n",
    "Dataset['Entertainment (£)'].fillna(Dataset['Entertainment (£)'].median(), inplace = True)"
   ],
   "metadata": {
    "collapsed": false,
    "ExecuteTime": {
     "end_time": "2024-02-21T16:29:09.065141200Z",
     "start_time": "2024-02-21T16:29:08.985412900Z"
    }
   },
   "id": "781c7967962106c4"
  },
  {
   "cell_type": "code",
   "execution_count": 302,
   "outputs": [
    {
     "name": "stdout",
     "output_type": "stream",
     "text": [
      "Date                                                       0\n",
      "80% of the expenses were made by                          82\n",
      "80% of the expenses were made by .1                       46\n",
      "80% of the expenses were made in the following regions     0\n",
      "Miscellaneous (£)                                          0\n",
      "Automotive Fuel (£)                                        0\n",
      "Entertainment (£)                                          0\n",
      "Food and Drink (£)                                         0\n",
      "Pubs, restaurants and fast food (£)                        0\n",
      "dtype: int64\n"
     ]
    }
   ],
   "source": [
    "#check if they are any more missing values to make sure the missing rows haven been filled in with median values\n",
    "Datasetnew = Dataset.isnull().sum()\n",
    "print(Datasetnew)"
   ],
   "metadata": {
    "collapsed": false,
    "ExecuteTime": {
     "end_time": "2024-02-21T16:29:09.068431800Z",
     "start_time": "2024-02-21T16:29:08.989046Z"
    }
   },
   "id": "a5b6f75ae9f3cda5"
  },
  {
   "cell_type": "code",
   "execution_count": 303,
   "outputs": [
    {
     "data": {
      "text/plain": "         Date 80% of the expenses were made by1  \\\n0  1 Jan 2020                    Private sector   \n1  2 Jan 2020                    Private sector   \n2  3 Jan 2020                    Private sector   \n3  4 Jan 2020                    Private sector   \n4  5 Jan 2020                    Private sector   \n\n  80% of the expenses were made by2  \\\n0                              Male   \n1                            Female   \n2                            Female   \n3                            Female   \n4                            Female   \n\n  80% of the expenses were made in the following regions  Miscellaneous (£)  \\\n0                                          E12000001                 113.90   \n1                                          E12000007                 117.51   \n2                                          E12000006                 117.63   \n3                                          E12000004                 116.27   \n4                                          E12000003                 113.75   \n\n   Automotive Fuel (£)  Entertainment (£)  Food and Drink (£)  \\\n0               125.01             113.52              101.79   \n1               128.54             117.09              107.25   \n2               132.20             115.70              107.47   \n3               135.19             108.49              107.90   \n4               135.02              99.38              107.01   \n\n   Pubs, restaurants and fast food (£)  \n0                               119.09  \n1                               121.97  \n2                               122.00  \n3                               119.54  \n4                               113.30  ",
      "text/html": "<div>\n<style scoped>\n    .dataframe tbody tr th:only-of-type {\n        vertical-align: middle;\n    }\n\n    .dataframe tbody tr th {\n        vertical-align: top;\n    }\n\n    .dataframe thead th {\n        text-align: right;\n    }\n</style>\n<table border=\"1\" class=\"dataframe\">\n  <thead>\n    <tr style=\"text-align: right;\">\n      <th></th>\n      <th>Date</th>\n      <th>80% of the expenses were made by1</th>\n      <th>80% of the expenses were made by2</th>\n      <th>80% of the expenses were made in the following regions</th>\n      <th>Miscellaneous (£)</th>\n      <th>Automotive Fuel (£)</th>\n      <th>Entertainment (£)</th>\n      <th>Food and Drink (£)</th>\n      <th>Pubs, restaurants and fast food (£)</th>\n    </tr>\n  </thead>\n  <tbody>\n    <tr>\n      <th>0</th>\n      <td>1 Jan 2020</td>\n      <td>Private sector</td>\n      <td>Male</td>\n      <td>E12000001</td>\n      <td>113.90</td>\n      <td>125.01</td>\n      <td>113.52</td>\n      <td>101.79</td>\n      <td>119.09</td>\n    </tr>\n    <tr>\n      <th>1</th>\n      <td>2 Jan 2020</td>\n      <td>Private sector</td>\n      <td>Female</td>\n      <td>E12000007</td>\n      <td>117.51</td>\n      <td>128.54</td>\n      <td>117.09</td>\n      <td>107.25</td>\n      <td>121.97</td>\n    </tr>\n    <tr>\n      <th>2</th>\n      <td>3 Jan 2020</td>\n      <td>Private sector</td>\n      <td>Female</td>\n      <td>E12000006</td>\n      <td>117.63</td>\n      <td>132.20</td>\n      <td>115.70</td>\n      <td>107.47</td>\n      <td>122.00</td>\n    </tr>\n    <tr>\n      <th>3</th>\n      <td>4 Jan 2020</td>\n      <td>Private sector</td>\n      <td>Female</td>\n      <td>E12000004</td>\n      <td>116.27</td>\n      <td>135.19</td>\n      <td>108.49</td>\n      <td>107.90</td>\n      <td>119.54</td>\n    </tr>\n    <tr>\n      <th>4</th>\n      <td>5 Jan 2020</td>\n      <td>Private sector</td>\n      <td>Female</td>\n      <td>E12000003</td>\n      <td>113.75</td>\n      <td>135.02</td>\n      <td>99.38</td>\n      <td>107.01</td>\n      <td>113.30</td>\n    </tr>\n  </tbody>\n</table>\n</div>"
     },
     "execution_count": 303,
     "metadata": {},
     "output_type": "execute_result"
    }
   ],
   "source": [
    "#Handle missing values of categorical columns\n",
    "#Before doing so, it can be noticed that the second and third column in the dataset have the same title. This may be an issue when performing data cleaning and machine learning procedures. So it is important that, one of the column titles is renamed.\n",
    "Dataset.rename(columns={'80% of the expenses were made by ': '80% of the expenses were made by1'}, inplace=True)\n",
    "Dataset.rename(columns={'80% of the expenses were made by .1': '80% of the expenses were made by2'}, inplace=True)\n",
    "\n",
    "#check if the changes have being made\n",
    "Dataset.head()\n"
   ],
   "metadata": {
    "collapsed": false,
    "ExecuteTime": {
     "end_time": "2024-02-21T16:29:09.068431800Z",
     "start_time": "2024-02-21T16:29:08.998194Z"
    }
   },
   "id": "439d962136a894de"
  },
  {
   "cell_type": "code",
   "execution_count": 304,
   "outputs": [
    {
     "name": "stderr",
     "output_type": "stream",
     "text": [
      "C:\\Users\\atang\\AppData\\Local\\Temp\\ipykernel_12476\\243082512.py:3: FutureWarning: Series.fillna with 'method' is deprecated and will raise in a future version. Use obj.ffill() or obj.bfill() instead.\n",
      "  Dataset['80% of the expenses were made by1'].fillna(method='ffill', inplace=True)\n",
      "C:\\Users\\atang\\AppData\\Local\\Temp\\ipykernel_12476\\243082512.py:4: FutureWarning: Series.fillna with 'method' is deprecated and will raise in a future version. Use obj.ffill() or obj.bfill() instead.\n",
      "  Dataset['80% of the expenses were made by2'].fillna(method='ffill', inplace=True)\n"
     ]
    }
   ],
   "source": [
    "#use the forward fill option to fill in missing rows in these columns\n",
    "\n",
    "Dataset['80% of the expenses were made by1'].fillna(method='ffill', inplace=True) \n",
    "Dataset['80% of the expenses were made by2'].fillna(method='ffill', inplace=True) \n"
   ],
   "metadata": {
    "collapsed": false,
    "ExecuteTime": {
     "end_time": "2024-02-21T16:29:09.068431800Z",
     "start_time": "2024-02-21T16:29:09.009877700Z"
    }
   },
   "id": "946293829cae8ab7"
  },
  {
   "cell_type": "code",
   "execution_count": 305,
   "outputs": [
    {
     "name": "stdout",
     "output_type": "stream",
     "text": [
      "Date                                                      0\n",
      "80% of the expenses were made by1                         0\n",
      "80% of the expenses were made by2                         0\n",
      "80% of the expenses were made in the following regions    0\n",
      "Miscellaneous (£)                                         0\n",
      "Automotive Fuel (£)                                       0\n",
      "Entertainment (£)                                         0\n",
      "Food and Drink (£)                                        0\n",
      "Pubs, restaurants and fast food (£)                       0\n",
      "dtype: int64\n"
     ]
    }
   ],
   "source": [
    "#check if they are any more missing values to make sure the missing rows haven been filled in with median values\n",
    "Datasetnew = Dataset.isnull().sum()\n",
    "print(Datasetnew)"
   ],
   "metadata": {
    "collapsed": false,
    "ExecuteTime": {
     "end_time": "2024-02-21T16:29:09.068431800Z",
     "start_time": "2024-02-21T16:29:09.013111600Z"
    }
   },
   "id": "c1027a40b085b41c"
  },
  {
   "cell_type": "code",
   "execution_count": 306,
   "outputs": [
    {
     "name": "stdout",
     "output_type": "stream",
     "text": [
      "             Date 80% of the expenses were made by1  \\\n",
      "0      1 Jan 2020                    Private sector   \n",
      "1      2 Jan 2020                    Private sector   \n",
      "2      3 Jan 2020                    Private sector   \n",
      "3      4 Jan 2020                    Private sector   \n",
      "4      5 Jan 2020                    Private sector   \n",
      "...           ...                               ...   \n",
      "1442  13 Dec 2023                     Public sector   \n",
      "1443  14 Dec 2023                     Public sector   \n",
      "1444  15 Dec 2023                     Public sector   \n",
      "1445  16 Dec 2023                     Public sector   \n",
      "1446  17 Dec 2023                    Private sector   \n",
      "\n",
      "     80% of the expenses were made by2  \\\n",
      "0                                 Male   \n",
      "1                               Female   \n",
      "2                               Female   \n",
      "3                               Female   \n",
      "4                               Female   \n",
      "...                                ...   \n",
      "1442                              Male   \n",
      "1443                              Male   \n",
      "1444                              Male   \n",
      "1445                              Male   \n",
      "1446                              Male   \n",
      "\n",
      "     80% of the expenses were made in the following regions  \\\n",
      "0                                             E12000001       \n",
      "1                                             E12000007       \n",
      "2                                             E12000006       \n",
      "3                                             E12000004       \n",
      "4                                             E12000003       \n",
      "...                                                 ...       \n",
      "1442                                          E12000006       \n",
      "1443                                          E12000007       \n",
      "1444                                          S92000003       \n",
      "1445                                          E12000002       \n",
      "1446                                          E12000001       \n",
      "\n",
      "      Miscellaneous (£)  Automotive Fuel (£)  Entertainment (£)  \\\n",
      "0                113.90               125.01             113.52   \n",
      "1                117.51               128.54             117.09   \n",
      "2                117.63               132.20             115.70   \n",
      "3                116.27               135.19             108.49   \n",
      "4                113.75               135.02              99.38   \n",
      "...                 ...                  ...                ...   \n",
      "1442             137.50               153.44              85.91   \n",
      "1443             138.09               153.78              86.00   \n",
      "1444             139.11               154.57              86.52   \n",
      "1445             139.60               157.61              87.51   \n",
      "1446             140.08               158.97              88.85   \n",
      "\n",
      "      Food and Drink (£)  Pubs, restaurants and fast food (£)  \n",
      "0                 101.79                               119.09  \n",
      "1                 107.25                               121.97  \n",
      "2                 107.47                               122.00  \n",
      "3                 107.90                               119.54  \n",
      "4                 107.01                               113.30  \n",
      "...                  ...                                  ...  \n",
      "1442              148.46                                95.29  \n",
      "1443              148.85                                95.73  \n",
      "1444              148.92                                95.69  \n",
      "1445              149.24                                95.41  \n",
      "1446              149.36                                95.98  \n",
      "\n",
      "[1447 rows x 9 columns]\n"
     ]
    }
   ],
   "source": [
    "#check if values were inputted correctly\n",
    "print(Dataset)"
   ],
   "metadata": {
    "collapsed": false,
    "ExecuteTime": {
     "end_time": "2024-02-21T16:29:09.068431800Z",
     "start_time": "2024-02-21T16:29:09.018146700Z"
    }
   },
   "id": "2f82cfd35ac08bdd"
  },
  {
   "cell_type": "code",
   "execution_count": 307,
   "outputs": [
    {
     "name": "stdout",
     "output_type": "stream",
     "text": [
      "0\n"
     ]
    }
   ],
   "source": [
    "#Handling duplicates\n",
    "#check if there are any duplicates to drop\n",
    "print(Dataset.duplicated().sum())"
   ],
   "metadata": {
    "collapsed": false,
    "ExecuteTime": {
     "end_time": "2024-02-21T16:29:09.068431800Z",
     "start_time": "2024-02-21T16:29:09.025807300Z"
    }
   },
   "id": "2cd2b57aeee53d8c"
  },
  {
   "cell_type": "code",
   "execution_count": 308,
   "outputs": [
    {
     "name": "stdout",
     "output_type": "stream",
     "text": [
      "1323    500.0\n",
      "Name: Automotive Fuel (£), dtype: float64\n",
      "Series([], Name: Food and Drink (£), dtype: float64)\n",
      "Series([], Name: Miscellaneous (£), dtype: float64)\n",
      "Series([], Name: Entertainment (£), dtype: float64)\n",
      "Series([], Name: Pubs, restaurants and fast food (£), dtype: float64)\n"
     ]
    }
   ],
   "source": [
    "#Handling outliers\n",
    "#calculate and remove outliers\n",
    "#define a function to calculate and return the outliers\n",
    "def calculate_outliers(column_series):\n",
    "    Q1 = column_series.quantile(0.25)\n",
    "    Q3 = column_series.quantile(0.75)\n",
    "    IQR = Q3 - Q1\n",
    "    lower_bound = Q1 - 1.5 * IQR\n",
    "    upper_bound = Q3 + 1.5 * IQR\n",
    "    outliers = column_series[(column_series < lower_bound) | (column_series > upper_bound)]\n",
    "    return outliers\n",
    "\n",
    "# Call the function for each column you want to find outliers for and print the results\n",
    "print(calculate_outliers(Dataset['Automotive Fuel (£)']))\n",
    "print(calculate_outliers(Dataset['Food and Drink (£)']))\n",
    "print(calculate_outliers(Dataset['Miscellaneous (£)']))\n",
    "print(calculate_outliers(Dataset['Entertainment (£)']))\n",
    "print(calculate_outliers(Dataset['Pubs, restaurants and fast food (£)']))\n",
    "\n",
    "#Results: from the results below, it can  be seen that there is an outlier in the automotive fuel column. However, this outlier will not be removed as it could signifier a large purchase performed by a bulk/wholesale buyer. \n"
   ],
   "metadata": {
    "collapsed": false,
    "ExecuteTime": {
     "end_time": "2024-02-21T16:29:09.082095900Z",
     "start_time": "2024-02-21T16:29:09.033360300Z"
    }
   },
   "id": "1a63f425614cda94"
  },
  {
   "cell_type": "code",
   "execution_count": 308,
   "outputs": [],
   "source": [],
   "metadata": {
    "collapsed": false,
    "ExecuteTime": {
     "end_time": "2024-02-21T16:29:09.082095900Z",
     "start_time": "2024-02-21T16:29:09.039998Z"
    }
   },
   "id": "3ce1505ee26ccfcb"
  }
 ],
 "metadata": {
  "kernelspec": {
   "display_name": "Python 3",
   "language": "python",
   "name": "python3"
  },
  "language_info": {
   "codemirror_mode": {
    "name": "ipython",
    "version": 2
   },
   "file_extension": ".py",
   "mimetype": "text/x-python",
   "name": "python",
   "nbconvert_exporter": "python",
   "pygments_lexer": "ipython2",
   "version": "2.7.6"
  }
 },
 "nbformat": 4,
 "nbformat_minor": 5
}
