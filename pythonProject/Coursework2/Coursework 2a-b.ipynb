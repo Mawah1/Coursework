{
 "cells": [
  {
   "cell_type": "code",
   "execution_count": 2,
   "id": "initial_id",
   "metadata": {
    "collapsed": true,
    "ExecuteTime": {
     "end_time": "2023-12-10T01:04:04.109679500Z",
     "start_time": "2023-12-10T01:04:04.053938800Z"
    }
   },
   "outputs": [
    {
     "data": {
      "text/plain": "array(['Albania', 'Antigua and Barbuda', 'Argentina', 'Armenia', 'Aruba',\n       'Australia', 'Austria', 'Azerbaijan', 'Bahamas', 'Bahrain',\n       'Barbados', 'Belarus', 'Belgium', 'Belize',\n       'Bosnia and Herzegovina', 'Brazil', 'Bulgaria', 'Cabo Verde',\n       'Canada', 'Chile', 'Colombia', 'Costa Rica', 'Croatia', 'Cuba',\n       'Cyprus', 'Czech Republic', 'Denmark', 'Dominica', 'Ecuador',\n       'El Salvador', 'Estonia', 'Fiji', 'Finland', 'France', 'Georgia',\n       'Germany', 'Greece', 'Grenada', 'Guatemala', 'Guyana', 'Hungary',\n       'Iceland', 'Ireland', 'Israel', 'Italy', 'Jamaica', 'Japan',\n       'Kazakhstan', 'Kiribati', 'Kuwait', 'Kyrgyzstan', 'Latvia',\n       'Lithuania', 'Luxembourg', 'Macau', 'Maldives', 'Malta',\n       'Mauritius', 'Mexico', 'Mongolia', 'Montenegro', 'Netherlands',\n       'New Zealand', 'Nicaragua', 'Norway', 'Oman', 'Panama', 'Paraguay',\n       'Philippines', 'Poland', 'Portugal', 'Puerto Rico', 'Qatar',\n       'Republic of Korea', 'Romania', 'Russian Federation',\n       'Saint Kitts and Nevis', 'Saint Lucia',\n       'Saint Vincent and Grenadines', 'San Marino', 'Serbia',\n       'Seychelles', 'Singapore', 'Slovakia', 'Slovenia', 'South Africa',\n       'Spain', 'Sri Lanka', 'Suriname', 'Sweden', 'Switzerland',\n       'Thailand', 'Trinidad and Tobago', 'Turkey', 'Turkmenistan',\n       'Ukraine', 'United Arab Emirates', 'United Kingdom',\n       'United States', 'Uruguay', 'Uzbekistan'], dtype=object)"
     },
     "execution_count": 2,
     "metadata": {},
     "output_type": "execute_result"
    }
   ],
   "source": [
    "#QUESTION A:  List all countries in the dataset\n",
    "import pandas as pd #import pandas to start data analysis\n",
    "#Load the dataset by calling the file path\n",
    "file_path = 'C:\\\\Users\\\\atang\\\\OneDrive\\\\Documents\\\\Data Science MSc\\\\Programming for data science\\\\who_suicide_statistics_modifed3 (2).csv' #include double slash in filepath to avoid errors whilst reading\n",
    "Dataset = pd.read_csv(file_path)\n",
    "List_of_countries = Dataset['country'].unique() #access unique data within the dataset and return no duplicates\n",
    "List_of_countries.sort #sort out the data in alphabetical order\n",
    "List_of_countries\n"
   ]
  },
  {
   "cell_type": "code",
   "execution_count": 4,
   "outputs": [
    {
     "name": "stdout",
     "output_type": "stream",
     "text": [
      "27840\n",
      "country                   0\n",
      "year                      0\n",
      "sex                       0\n",
      "age                       0\n",
      "suicides_no            4265\n",
      "population                0\n",
      "HDI for year          19472\n",
      " gdp_for_year ($)         0\n",
      "dtype: int64\n",
      "Index(['country', 'year', 'sex', 'age', 'suicides_no', 'population',\n",
      "       'HDI for year', ' gdp_for_year ($) '],\n",
      "      dtype='object')\n",
      "object\n",
      "int64\n",
      "float64\n",
      "object\n",
      "year            0\n",
      "population      0\n",
      "HDI for year    0\n",
      "dtype: int64\n"
     ]
    }
   ],
   "source": [
    "#QUESTION B:  Describe any problem with the data including missing data, data format etc.\n",
    "#the following will be performed to check what parts of the dataset require cleaning and sets the parameters for how the data will be cleaned\n",
    "#Count the number of rows in the Dataset\n",
    "number_of_rows = len(Dataset)\n",
    "print(number_of_rows)\n",
    "#Identify and count the number of missing values in the dataset\n",
    "Missing_data = Dataset.isnull().sum()\n",
    "print(Missing_data)\n",
    "\n",
    "#to identify the column name in Dataset including those with case/spaces. this will avoid typo errors relating to the column names when identifying their data types\n",
    "print(Dataset.columns)\n",
    "\n",
    "#Identify data types of suicide_no, population, HDI for year and gdp_for_year ($)\n",
    "print(Dataset['suicides_no'].dtype)\n",
    "print(Dataset['population'].dtype)\n",
    "print(Dataset['HDI for year'].dtype)\n",
    "print(Dataset[' gdp_for_year ($) '].dtype)\n",
    "\n",
    "#check for and count negative values (if any)\n",
    "#use .select_dtypes() to identify/include only numerical types in the code\n",
    "#use .lt(0) to compare each element in the selected columns that is less than 0\n",
    "negative_values = Dataset.select_dtypes(include=['number']).lt(0).sum()\n",
    "print(negative_values)"
   ],
   "metadata": {
    "collapsed": false,
    "ExecuteTime": {
     "end_time": "2023-12-09T16:50:08.829219600Z",
     "start_time": "2023-12-09T16:50:08.818483800Z"
    }
   },
   "id": "c8eafc731bb6dbbf"
  }
 ],
 "metadata": {
  "kernelspec": {
   "display_name": "Python 3",
   "language": "python",
   "name": "python3"
  },
  "language_info": {
   "codemirror_mode": {
    "name": "ipython",
    "version": 2
   },
   "file_extension": ".py",
   "mimetype": "text/x-python",
   "name": "python",
   "nbconvert_exporter": "python",
   "pygments_lexer": "ipython2",
   "version": "2.7.6"
  }
 },
 "nbformat": 4,
 "nbformat_minor": 5
}
